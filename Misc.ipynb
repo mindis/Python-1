{
 "cells": [
  {
   "cell_type": "code",
   "execution_count": 1,
   "metadata": {},
   "outputs": [],
   "source": [
    "%pwd  #look at the current work dir\n",
    "import os\n",
    "os.chdir('C:/Users/zhangxinhua/Desktop/Python/Theory/Machine Learning/Andrew Ng Coursera/Exercises/machine-learning-ex1/ex1') "
   ]
  },
  {
   "cell_type": "code",
   "execution_count": 3,
   "metadata": {
    "scrolled": true
   },
   "outputs": [
    {
     "data": {
      "text/plain": [
       "'C:\\\\Users\\\\zhangxinhua\\\\Desktop\\\\Python\\\\pandas'"
      ]
     },
     "execution_count": 3,
     "metadata": {},
     "output_type": "execute_result"
    }
   ],
   "source": [
    "pwd"
   ]
  },
  {
   "cell_type": "code",
   "execution_count": 4,
   "metadata": {},
   "outputs": [
    {
     "name": "stdout",
     "output_type": "stream",
     "text": [
      " 驱动器 C 中的卷是 Windows\n",
      " 卷的序列号是 7AD0-24A2\n",
      "\n",
      " C:\\Users\\zhangxinhua\\Desktop\\Python\\pandas 的目录\n",
      "\n",
      "2020/05/19  23:34    <DIR>          .\n",
      "2020/05/19  23:34    <DIR>          ..\n",
      "2020/05/19  23:34    <DIR>          .ipynb_checkpoints\n",
      "2020/05/19  21:50             6,095 Help and Documentation in IPython.ipynb\n",
      "2020/05/19  23:11             7,099 Input and Output History.ipynb\n",
      "2020/05/19  22:41            40,945 Introducting Pandas Objects.ipynb\n",
      "2020/05/19  23:33             7,852 IPython Magic Commands.ipynb\n",
      "2020/05/16  22:16               178 links.txt\n",
      "2020/05/19  23:34                72 Untitled.ipynb\n",
      "               6 个文件         62,241 字节\n",
      "               3 个目录 39,159,889,920 可用字节\n"
     ]
    }
   ],
   "source": [
    "ls"
   ]
  },
  {
   "cell_type": "code",
   "execution_count": 5,
   "metadata": {},
   "outputs": [
    {
     "name": "stdout",
     "output_type": "stream",
     "text": [
      "\"printing from the shell\"\n"
     ]
    }
   ],
   "source": [
    "echo \"printing from the shell\""
   ]
  }
 ],
 "metadata": {
  "kernelspec": {
   "display_name": "Python 3",
   "language": "python",
   "name": "python3"
  },
  "language_info": {
   "codemirror_mode": {
    "name": "ipython",
    "version": 3
   },
   "file_extension": ".py",
   "mimetype": "text/x-python",
   "name": "python",
   "nbconvert_exporter": "python",
   "pygments_lexer": "ipython3",
   "version": "3.7.6"
  }
 },
 "nbformat": 4,
 "nbformat_minor": 4
}
